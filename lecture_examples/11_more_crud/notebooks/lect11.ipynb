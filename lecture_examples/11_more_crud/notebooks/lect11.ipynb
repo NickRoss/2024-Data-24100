{
 "cells": [
  {
   "cell_type": "code",
   "execution_count": 3,
   "id": "393ccd7e-c3b9-4c7a-83ea-2c7844747e75",
   "metadata": {},
   "outputs": [],
   "source": [
    "import sqlite3\n",
    "conn = sqlite3.connect('basketball_db')\n",
    "cursor = conn.cursor()"
   ]
  },
  {
   "cell_type": "code",
   "execution_count": null,
   "id": "06b6785e-38ae-4c76-b7f4-f54773a1d175",
   "metadata": {},
   "outputs": [],
   "source": [
    "create_table_query = \"\"\"create table cls (bname text, bage int); \"\"\"\n",
    "cursor.execute( create_table_query )"
   ]
  },
  {
   "cell_type": "code",
   "execution_count": null,
   "id": "4ea30778-f87f-4897-a635-8314a6faaf20",
   "metadata": {},
   "outputs": [
    {
     "data": {
      "text/plain": [
       "[('John Smith', 28),\n",
       " ('Sarah Johnson', 34),\n",
       " ('Michael Lee', 42),\n",
       " ('Emma Wilson', 25),\n",
       " ('David Brown', 31),\n",
       " ('John Smith', 28),\n",
       " ('Sarah Johnson', 34),\n",
       " ('Michael Lee', 42),\n",
       " ('Emma Wilson', 25),\n",
       " ('David Brown', 31)]"
      ]
     },
     "execution_count": 7,
     "metadata": {},
     "output_type": "execute_result"
    }
   ],
   "source": [
    "cursor.execute(\"select * from cls;\")\n",
    "cursor.fetchall()\n",
    "# Will Return Nothing"
   ]
  },
  {
   "cell_type": "code",
   "execution_count": null,
   "id": "9a36e4e6-b7b1-4da3-bd96-281be28073b8",
   "metadata": {},
   "outputs": [],
   "source": [
    "insert_data_query = \"\"\"\n",
    "INSERT INTO cls (bname, bage) VALUES \n",
    "    ('John Smith', 28),\n",
    "    ('Sarah Johnson', 34),\n",
    "    ('Michael Lee', 42),\n",
    "    ('Emma Wilson', 25),\n",
    "    ('David Brown', 31)\n",
    ";\"\"\"\n",
    "\n",
    "cursor.execute(insert_data_query)\n",
    "\n",
    "# commit --- why is this required?\n",
    "conn.commit()"
   ]
  },
  {
   "cell_type": "code",
   "execution_count": 14,
   "id": "740569e6-b51c-48ba-9576-60b6d38ee64c",
   "metadata": {},
   "outputs": [
    {
     "name": "stdout",
     "output_type": "stream",
     "text": [
      "(('bage', None, None, None, None, None, None), ('bname', None, None, None, None, None, None))\n"
     ]
    }
   ],
   "source": [
    "cursor.execute(\"select bage, bname from cls;\")\n",
    "print(cursor.description)\n",
    "list_of_players = cursor.fetchall()"
   ]
  },
  {
   "cell_type": "code",
   "execution_count": 26,
   "id": "d55b9b41-addd-430d-b9d8-bfe9d3f36149",
   "metadata": {},
   "outputs": [
    {
     "data": {
      "text/plain": [
       "[{'bname': 'John Smith', 'bage': 28},\n",
       " {'bname': 'Sarah Johnson', 'bage': 34},\n",
       " {'bname': 'Michael Lee', 'bage': 42},\n",
       " {'bname': 'Emma Wilson', 'bage': 25},\n",
       " {'bname': 'David Brown', 'bage': 31},\n",
       " {'bname': 'John Smith', 'bage': 28},\n",
       " {'bname': 'Sarah Johnson', 'bage': 34},\n",
       " {'bname': 'Michael Lee', 'bage': 42},\n",
       " {'bname': 'Emma Wilson', 'bage': 25},\n",
       " {'bname': 'David Brown', 'bage': 31}]"
      ]
     },
     "execution_count": 26,
     "metadata": {},
     "output_type": "execute_result"
    }
   ],
   "source": [
    "def execute_query_return_list_of_dicts( conn, sql_query):\n",
    "\n",
    "    cursor = conn.cursor()\n",
    "    cursor.execute(sql_query)\n",
    "    description_info = cursor.description\n",
    "    \n",
    "    headers = [x[0] for x in description_info]\n",
    "    query_result = cursor.fetchall()\n",
    "    \n",
    "    return_dict_list = []\n",
    "    \n",
    "    for result in query_result:\n",
    "        # single_result_dict = {headers[i] : result[i] for i in range(len(headers))}\n",
    "        single_result_dict = dict(zip(headers, result))\n",
    "    \n",
    "        return_dict_list.append( single_result_dict )\n",
    "    # Measure memory\n",
    "    # 2 full copies of the data in memory: one in the query_resuls and one in the return_dict_list\n",
    "    return return_dict_list\n",
    "\n",
    "execute_query_return_list_of_dicts( conn, \"select * from cls;\")"
   ]
  },
  {
   "cell_type": "code",
   "execution_count": null,
   "id": "c73019f6-1736-438b-b10a-1eaa230acdfc",
   "metadata": {},
   "outputs": [
    {
     "data": {
      "text/plain": [
       "[{'bname': 'John Smith', 'bage': 28},\n",
       " {'bname': 'Sarah Johnson', 'bage': 34},\n",
       " {'bname': 'Michael Lee', 'bage': 42},\n",
       " {'bname': 'Emma Wilson', 'bage': 25},\n",
       " {'bname': 'David Brown', 'bage': 31},\n",
       " {'bname': 'John Smith', 'bage': 28},\n",
       " {'bname': 'Sarah Johnson', 'bage': 34},\n",
       " {'bname': 'Michael Lee', 'bage': 42},\n",
       " {'bname': 'Emma Wilson', 'bage': 25},\n",
       " {'bname': 'David Brown', 'bage': 31},\n",
       " {'bname': 'a', 'bage': 5},\n",
       " {'bname': 'b', 'bage': 6},\n",
       " {'bname': 'c', 'bage': 7},\n",
       " {'bname': 'd', 'bage': 8},\n",
       " {'bname': 'e', 'bage': 9},\n",
       " {'bname': 'a', 'bage': 5},\n",
       " {'bname': 'b', 'bage': 6},\n",
       " {'bname': 'c', 'bage': 7},\n",
       " {'bname': 'd', 'bage': 8},\n",
       " {'bname': 'e', 'bage': 9}]"
      ]
     },
     "execution_count": 36,
     "metadata": {},
     "output_type": "execute_result"
    }
   ],
   "source": [
    "def execute_query_return_list_of_dicts_lm( conn, sql_query):\n",
    "    \"\"\"\n",
    "    Low memory version of pvs command\n",
    "    \"\"\"\n",
    "\n",
    "    cursor = conn.cursor()\n",
    "    cursor.execute(sql_query)\n",
    "    description_info = cursor.description\n",
    "    \n",
    "    headers = [x[0] for x in description_info]\n",
    "    return_dict_list = []\n",
    "\n",
    "    while True:\n",
    "        single_result = cursor.fetchone()\n",
    "\n",
    "        if not single_result:\n",
    "            break\n",
    "\n",
    "        single_result_dict = dict(zip(headers, single_result))    \n",
    "        return_dict_list.append( single_result_dict )\n",
    "\n",
    "    return return_dict_list\n",
    "\n",
    "execute_query_return_list_of_dicts_lm( conn, \"select * from cls;\")"
   ]
  },
  {
   "cell_type": "code",
   "execution_count": 35,
   "id": "a22d3c74-4d39-404a-8165-50b08041c05f",
   "metadata": {},
   "outputs": [],
   "source": [
    "# Example of using execute many\n",
    "\n",
    "insert_query_string = \"insert into cls (bname, bage) values (? , ?)\"\n",
    "\n",
    "names = ['a', 'b', 'c', 'd', 'e']\n",
    "ages = [5, 6, 7, 8, 9]\n",
    "\n",
    "data_to_insert = list(zip(names, ages))\n",
    "\n",
    "\n",
    "data_to_insert\n",
    "\n",
    "cursor.executemany(insert_query_string, data_to_insert)\n",
    "\n",
    "conn.commit()"
   ]
  },
  {
   "cell_type": "code",
   "execution_count": null,
   "id": "e0a2c602-ff1a-436f-ac64-0d10c70de490",
   "metadata": {},
   "outputs": [
    {
     "data": {
      "text/plain": [
       "<sqlite3.Cursor at 0xffff9ff92840>"
      ]
     },
     "execution_count": 38,
     "metadata": {},
     "output_type": "execute_result"
    }
   ],
   "source": [
    "# Using indexes...\n",
    "cursor.execute(\"create index idx_cls_bage on cls( bage );\")\n",
    "cursor.execute(\"create index idx_cls_bname_bage on cls( bname, bage);\")\n",
    "\n",
    "\"select * from cls where bage = 2\" <- index will be used!\n",
    "\n",
    "\"select * from cls where bname = 'Alice'\" <- index will not be used!\n",
    "\n",
    "\"select * from cls where bname = 'Alice' and bage=2 \" <- index may be used!\n",
    "\n",
    "Strongly recommned: index on year and index of symbol\n"
   ]
  }
 ],
 "metadata": {
  "kernelspec": {
   "display_name": "Python 3 (ipykernel)",
   "language": "python",
   "name": "python3"
  },
  "language_info": {
   "codemirror_mode": {
    "name": "ipython",
    "version": 3
   },
   "file_extension": ".py",
   "mimetype": "text/x-python",
   "name": "python",
   "nbconvert_exporter": "python",
   "pygments_lexer": "ipython3",
   "version": "3.10.15"
  }
 },
 "nbformat": 4,
 "nbformat_minor": 5
}
