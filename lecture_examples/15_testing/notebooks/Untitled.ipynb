{
 "cells": [
  {
   "cell_type": "code",
   "execution_count": 1,
   "id": "bf8c7b06-ad50-4444-b0bf-889a0b2d4eb8",
   "metadata": {},
   "outputs": [],
   "source": [
    "import jsonschema"
   ]
  },
  {
   "cell_type": "code",
   "execution_count": 7,
   "id": "bb979f3e-3a3a-46b9-aa21-99896c9044c5",
   "metadata": {},
   "outputs": [],
   "source": [
    "schema_1 = {\n",
    "  \"type\": \"array\",\n",
    "  \"items\": {\n",
    "    \"type\": \"string\"\n",
    "  }\n",
    "}\n",
    "\n",
    "to_test_1 = [\"apple\", \"banana\", \"cherry\"]\n",
    "\n",
    "jsonschema.validate(to_test_1, schema_1)"
   ]
  },
  {
   "cell_type": "code",
   "execution_count": 12,
   "id": "793e4df2-3cea-4b64-87cd-6384950d9206",
   "metadata": {},
   "outputs": [],
   "source": [
    "schema_2 = {\n",
    "  \"type\": \"array\",\n",
    "  \"items\": {\n",
    "    \"type\": \"number\"\n",
    "  }\n",
    "}\n",
    "\n",
    "to_test_2 = [1, 2.5, 3, 4.7, 5]\n",
    "\n",
    "jsonschema.validate(to_test_2, schema_2)\n",
    "\n",
    "schema_3 = {\n",
    "  \"type\": \"array\",\n",
    "  \"items\": {\n",
    "    \"type\": \"integer\"\n",
    "  }\n",
    "}\n",
    "\n",
    "# jsonschema.validate(to_test_2, schema_3)"
   ]
  },
  {
   "cell_type": "code",
   "execution_count": 16,
   "id": "68b8e27c-0dce-47f8-857f-8e3e7bdfde99",
   "metadata": {},
   "outputs": [
    {
     "ename": "ValidationError",
     "evalue": "'count' is a required property\n\nFailed validating 'required' in schema:\n    {'type': 'object',\n     'properties': {'fruits': {'type': 'array',\n                               'items': {'type': 'string'}},\n                    'count': {'type': 'integer'}},\n     'required': ['count']}\n\nOn instance:\n    {'fruits': ['apple', 'banana', 'cherry']}",
     "output_type": "error",
     "traceback": [
      "\u001b[0;31m---------------------------------------------------------------------------\u001b[0m",
      "\u001b[0;31mValidationError\u001b[0m                           Traceback (most recent call last)",
      "Cell \u001b[0;32mIn[16], line 22\u001b[0m\n\u001b[1;32m      1\u001b[0m schema_4 \u001b[38;5;241m=\u001b[39m {\n\u001b[1;32m      2\u001b[0m   \u001b[38;5;124m\"\u001b[39m\u001b[38;5;124mtype\u001b[39m\u001b[38;5;124m\"\u001b[39m: \u001b[38;5;124m\"\u001b[39m\u001b[38;5;124mobject\u001b[39m\u001b[38;5;124m\"\u001b[39m,\n\u001b[1;32m      3\u001b[0m   \u001b[38;5;124m\"\u001b[39m\u001b[38;5;124mproperties\u001b[39m\u001b[38;5;124m\"\u001b[39m: {\n\u001b[0;32m   (...)\u001b[0m\n\u001b[1;32m     14\u001b[0m   }, \u001b[38;5;124m\"\u001b[39m\u001b[38;5;124mrequired\u001b[39m\u001b[38;5;124m\"\u001b[39m: [\u001b[38;5;124m\"\u001b[39m\u001b[38;5;124mcount\u001b[39m\u001b[38;5;124m\"\u001b[39m]\n\u001b[1;32m     15\u001b[0m }\n\u001b[1;32m     17\u001b[0m to_test_4 \u001b[38;5;241m=\u001b[39m {\n\u001b[1;32m     18\u001b[0m   \u001b[38;5;124m\"\u001b[39m\u001b[38;5;124mfruits\u001b[39m\u001b[38;5;124m\"\u001b[39m: [\u001b[38;5;124m\"\u001b[39m\u001b[38;5;124mapple\u001b[39m\u001b[38;5;124m\"\u001b[39m, \u001b[38;5;124m\"\u001b[39m\u001b[38;5;124mbanana\u001b[39m\u001b[38;5;124m\"\u001b[39m, \u001b[38;5;124m\"\u001b[39m\u001b[38;5;124mcherry\u001b[39m\u001b[38;5;124m\"\u001b[39m],\n\u001b[1;32m     19\u001b[0m   \u001b[38;5;66;03m# \"count\": 42,\u001b[39;00m\n\u001b[1;32m     20\u001b[0m \n\u001b[1;32m     21\u001b[0m }\n\u001b[0;32m---> 22\u001b[0m \u001b[43mjsonschema\u001b[49m\u001b[38;5;241;43m.\u001b[39;49m\u001b[43mvalidate\u001b[49m\u001b[43m(\u001b[49m\u001b[43mto_test_4\u001b[49m\u001b[43m,\u001b[49m\u001b[43m \u001b[49m\u001b[43mschema_4\u001b[49m\u001b[43m)\u001b[49m\n",
      "File \u001b[0;32m/usr/local/lib/python3.10/site-packages/jsonschema/validators.py:1332\u001b[0m, in \u001b[0;36mvalidate\u001b[0;34m(instance, schema, cls, *args, **kwargs)\u001b[0m\n\u001b[1;32m   1330\u001b[0m error \u001b[38;5;241m=\u001b[39m exceptions\u001b[38;5;241m.\u001b[39mbest_match(validator\u001b[38;5;241m.\u001b[39miter_errors(instance))\n\u001b[1;32m   1331\u001b[0m \u001b[38;5;28;01mif\u001b[39;00m error \u001b[38;5;129;01mis\u001b[39;00m \u001b[38;5;129;01mnot\u001b[39;00m \u001b[38;5;28;01mNone\u001b[39;00m:\n\u001b[0;32m-> 1332\u001b[0m     \u001b[38;5;28;01mraise\u001b[39;00m error\n",
      "\u001b[0;31mValidationError\u001b[0m: 'count' is a required property\n\nFailed validating 'required' in schema:\n    {'type': 'object',\n     'properties': {'fruits': {'type': 'array',\n                               'items': {'type': 'string'}},\n                    'count': {'type': 'integer'}},\n     'required': ['count']}\n\nOn instance:\n    {'fruits': ['apple', 'banana', 'cherry']}"
     ]
    }
   ],
   "source": [
    "\n",
    "schema_4 = {\n",
    "  \"type\": \"object\",\n",
    "  \"properties\": {\n",
    "    \"fruits\": {\n",
    "      \"type\": \"array\",\n",
    "      \"items\": {\n",
    "        \"type\": \"string\"\n",
    "      }\n",
    "    },\n",
    "    \"count\": {\n",
    "      \"type\": \"integer\"\n",
    "    }\n",
    "      \n",
    "  }\n",
    "# , \"required\": [\"count\"]\n",
    "}\n",
    "\n",
    "to_test_4 = {\n",
    "  \"fruits\": [\"apple\", \"banana\", \"cherry\"],\n",
    "  # \"count\": 42,\n",
    "\n",
    "}\n",
    "jsonschema.validate(to_test_4, schema_4)\n"
   ]
  }
 ],
 "metadata": {
  "kernelspec": {
   "display_name": "Python 3 (ipykernel)",
   "language": "python",
   "name": "python3"
  },
  "language_info": {
   "codemirror_mode": {
    "name": "ipython",
    "version": 3
   },
   "file_extension": ".py",
   "mimetype": "text/x-python",
   "name": "python",
   "nbconvert_exporter": "python",
   "pygments_lexer": "ipython3",
   "version": "3.10.15"
  }
 },
 "nbformat": 4,
 "nbformat_minor": 5
}
